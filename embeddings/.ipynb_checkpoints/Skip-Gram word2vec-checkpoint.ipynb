{
 "cells": [
  {
   "cell_type": "markdown",
   "metadata": {
    "deletable": true,
    "editable": true
   },
   "source": [
    "# Skip-gram word2vec\n",
    "\n",
    "In this notebook, I'll lead you through using TensorFlow to implement the word2vec algorithm using the skip-gram architecture. By implementing this, you'll learn about embedding words for use in natural language processing. This will come in handy when dealing with things like translations.\n",
    "\n",
    "## Readings\n",
    "\n",
    "Here are the resources I used to build this notebook. I suggest reading these either beforehand or while you're working on this material.\n",
    "\n",
    "* A really good [conceptual overview](http://mccormickml.com/2016/04/19/word2vec-tutorial-the-skip-gram-model/) of word2vec from Chris McCormick \n",
    "* [First word2vec paper](https://arxiv.org/pdf/1301.3781.pdf) from Mikolov et al.\n",
    "* [NIPS paper](http://papers.nips.cc/paper/5021-distributed-representations-of-words-and-phrases-and-their-compositionality.pdf) with improvements for word2vec also from Mikolov et al.\n",
    "* An [implementation of word2vec](http://www.thushv.com/natural_language_processing/word2vec-part-1-nlp-with-deep-learning-with-tensorflow-skip-gram/) from Thushan Ganegedara\n",
    "* TensorFlow [word2vec tutorial](https://www.tensorflow.org/tutorials/word2vec)\n",
    "\n",
    "## Word embeddings\n",
    "\n",
    "When you're dealing with language and words, you end up with tens of thousands of classes to predict, one for each word. Trying to one-hot encode these words is massively inefficient, you'll have one element set to 1 and the other 50,000 set to 0. The word2vec algorithm finds much more efficient representations by finding vectors that represent the words. These vectors also contain semantic information about the words. Words that show up in similar contexts, such as \"black\", \"white\", and \"red\" will have vectors near each other. There are two architectures for implementing word2vec, CBOW (Continuous Bag-Of-Words) and Skip-gram.\n",
    "\n",
    "<img src=\"assets/word2vec_architectures.png\" width=\"500\">\n",
    "\n",
    "In this implementation, we'll be using the skip-gram architecture because it performs better than CBOW. Here, we pass in a word and try to predict the words surrounding it in the text. In this way, we can train the network to learn representations for words that show up in similar contexts.\n",
    "\n",
    "First up, importing packages."
   ]
  },
  {
   "cell_type": "code",
   "execution_count": 1,
   "metadata": {
    "collapsed": false,
    "deletable": true,
    "editable": true
   },
   "outputs": [],
   "source": [
    "import time\n",
    "\n",
    "import numpy as np\n",
    "import tensorflow as tf\n",
    "\n",
    "import utils"
   ]
  },
  {
   "cell_type": "markdown",
   "metadata": {},
   "source": [
    "Load the [text8 dataset](http://mattmahoney.net/dc/textdata.html), a file of cleaned up Wikipedia articles from Matt Mahoney. The next cell will download the data set to the `data` folder. Then you can extract it and delete the archive file to save storage space."
   ]
  },
  {
   "cell_type": "code",
   "execution_count": 2,
   "metadata": {
    "collapsed": false
   },
   "outputs": [
    {
     "name": "stderr",
     "output_type": "stream",
     "text": [
      "Text8 Dataset: 31.4MB [01:08, 458KB/s]                             \n"
     ]
    }
   ],
   "source": [
    "from urllib.request import urlretrieve\n",
    "from os.path import isfile, isdir\n",
    "from tqdm import tqdm\n",
    "import zipfile\n",
    "\n",
    "dataset_folder_path = 'data'\n",
    "dataset_filename = 'text8.zip'\n",
    "dataset_name = 'Text8 Dataset'\n",
    "\n",
    "class DLProgress(tqdm):\n",
    "    last_block = 0\n",
    "\n",
    "    def hook(self, block_num=1, block_size=1, total_size=None):\n",
    "        self.total = total_size\n",
    "        self.update((block_num - self.last_block) * block_size)\n",
    "        self.last_block = block_num\n",
    "\n",
    "if not isfile(dataset_filename):\n",
    "    with DLProgress(unit='B', unit_scale=True, miniters=1, desc=dataset_name) as pbar:\n",
    "        urlretrieve(\n",
    "            'http://mattmahoney.net/dc/text8.zip',\n",
    "            dataset_filename,\n",
    "            pbar.hook)\n",
    "\n",
    "if not isdir(dataset_folder_path):\n",
    "    with zipfile.ZipFile(dataset_filename) as zip_ref:\n",
    "        zip_ref.extractall(dataset_folder_path)\n",
    "        \n",
    "with open('data/text8') as f:\n",
    "    text = f.read()"
   ]
  },
  {
   "cell_type": "markdown",
   "metadata": {},
   "source": [
    "## Preprocessing\n",
    "\n",
    "Here I'm fixing up the text to make training easier. This comes from the `utils` module I wrote. The `preprocess` function coverts any punctuation into tokens, so a period is changed to ` <PERIOD> `. In this data set, there aren't any periods, but it will help in other NLP problems. I'm also removing all words that show up five or fewer times in the dataset. This will greatly reduce issues due to noise in the data and improve the quality of the vector representations. If you want to write your own functions for this stuff, go for it."
   ]
  },
  {
   "cell_type": "code",
   "execution_count": 3,
   "metadata": {
    "collapsed": false,
    "deletable": true,
    "editable": true
   },
   "outputs": [
    {
     "name": "stdout",
     "output_type": "stream",
     "text": [
      "['anarchism', 'originated', 'as', 'a', 'term', 'of', 'abuse', 'first', 'used', 'against', 'early', 'working', 'class', 'radicals', 'including', 'the', 'diggers', 'of', 'the', 'english', 'revolution', 'and', 'the', 'sans', 'culottes', 'of', 'the', 'french', 'revolution', 'whilst']\n"
     ]
    }
   ],
   "source": [
    "words = utils.preprocess(text)\n",
    "print(words[:30])"
   ]
  },
  {
   "cell_type": "code",
   "execution_count": 4,
   "metadata": {
    "collapsed": false
   },
   "outputs": [
    {
     "name": "stdout",
     "output_type": "stream",
     "text": [
      "Total words: 16680599\n",
      "Unique words: 63641\n"
     ]
    }
   ],
   "source": [
    "print(\"Total words: {}\".format(len(words)))\n",
    "print(\"Unique words: {}\".format(len(set(words))))"
   ]
  },
  {
   "cell_type": "markdown",
   "metadata": {},
   "source": [
    "And here I'm creating dictionaries to covert words to integers and backwards, integers to words. The integers are assigned in descending frequency order, so the most frequent word (\"the\") is given the integer 0 and the next most frequent is 1 and so on. The words are converted to integers and stored in the list `int_words`."
   ]
  },
  {
   "cell_type": "code",
   "execution_count": 5,
   "metadata": {
    "collapsed": false,
    "deletable": true,
    "editable": true
   },
   "outputs": [],
   "source": [
    "vocab_to_int, int_to_vocab = utils.create_lookup_tables(words)\n",
    "int_words = [vocab_to_int[word] for word in words]"
   ]
  },
  {
   "cell_type": "markdown",
   "metadata": {},
   "source": [
    "## Subsampling\n",
    "\n",
    "Words that show up often such as \"the\", \"of\", and \"for\" don't provide much context to the nearby words. If we discard some of them, we can remove some of the noise from our data and in return get faster training and better representations. This process is called subsampling by Mikolov. For each word $w_i$ in the training set, we'll discard it with probability given by \n",
    "\n",
    "$$ P(w_i) = 1 - \\sqrt{\\frac{t}{f(w_i)}} $$\n",
    "\n",
    "where $t$ is a threshold parameter and $f(w_i)$ is the frequency of word $w_i$ in the total dataset.\n",
    "\n",
    "I'm going to leave this up to you as an exercise. This is more of a programming challenge, than about deep learning specifically. But, being able to prepare your data for your network is an important skill to have. Check out my solution to see how I did it.\n",
    "\n",
    "> **Exercise:** Implement subsampling for the words in `int_words`. That is, go through `int_words` and discard each word given the probablility $P(w_i)$ shown above. Note that $P(w_i)$ is the probability that a word is discarded. Assign the subsampled data to `train_words`."
   ]
  },
  {
   "cell_type": "code",
   "execution_count": 12,
   "metadata": {
    "collapsed": false
   },
   "outputs": [],
   "source": [
    "# create a tabel to store word frequency\n",
    "from collections import Counter\n",
    "word_num = len(int_words)\n",
    "word_counter = Counter()\n",
    "for int_word in int_words:\n",
    "    word_counter[int_word] += 1\n",
    "word_freq = {int_word: word_counter[int_word] / word_num for int_word in word_counter.keys()}"
   ]
  },
  {
   "cell_type": "code",
   "execution_count": 13,
   "metadata": {
    "collapsed": false
   },
   "outputs": [
    {
     "data": {
      "text/plain": [
       "0.06363056866243233"
      ]
     },
     "execution_count": 13,
     "metadata": {},
     "output_type": "execute_result"
    }
   ],
   "source": [
    "word_freq[0]"
   ]
  },
  {
   "cell_type": "code",
   "execution_count": 55,
   "metadata": {
    "collapsed": false
   },
   "outputs": [],
   "source": [
    "## Your code here\n",
    "t = 1e-5\n",
    "train_words = [] # The final subsampled word list\n",
    "for int_word in int_words:\n",
    "    p_discard = 1 - np.sqrt(t / word_freq[int_word])\n",
    "    if np.random.rand((1)) > p_discard:\n",
    "        train_words.append(int_word)"
   ]
  },
  {
   "cell_type": "code",
   "execution_count": 56,
   "metadata": {
    "collapsed": false
   },
   "outputs": [
    {
     "data": {
      "text/plain": [
       "0.90241381216729244"
      ]
     },
     "execution_count": 56,
     "metadata": {},
     "output_type": "execute_result"
    }
   ],
   "source": [
    "p_discard"
   ]
  },
  {
   "cell_type": "code",
   "execution_count": 57,
   "metadata": {
    "collapsed": false,
    "scrolled": true
   },
   "outputs": [
    {
     "data": {
      "text/plain": [
       "0.0010500821942905048"
      ]
     },
     "execution_count": 57,
     "metadata": {},
     "output_type": "execute_result"
    }
   ],
   "source": [
    "word_freq[int_word]"
   ]
  },
  {
   "cell_type": "code",
   "execution_count": 58,
   "metadata": {
    "collapsed": false
   },
   "outputs": [
    {
     "data": {
      "text/plain": [
       "16680599"
      ]
     },
     "execution_count": 58,
     "metadata": {},
     "output_type": "execute_result"
    }
   ],
   "source": [
    "len(int_words)"
   ]
  },
  {
   "cell_type": "code",
   "execution_count": 59,
   "metadata": {
    "collapsed": false
   },
   "outputs": [
    {
     "data": {
      "text/plain": [
       "4630499"
      ]
     },
     "execution_count": 59,
     "metadata": {},
     "output_type": "execute_result"
    }
   ],
   "source": [
    "len(train_words)"
   ]
  },
  {
   "cell_type": "markdown",
   "metadata": {},
   "source": [
    "## Making batches"
   ]
  },
  {
   "cell_type": "markdown",
   "metadata": {
    "deletable": true,
    "editable": true
   },
   "source": [
    "Now that our data is in good shape, we need to get it into the proper form to pass it into our network. With the skip-gram architecture, for each word in the text, we want to grab all the words in a window around that word, with size $C$. \n",
    "\n",
    "From [Mikolov et al.](https://arxiv.org/pdf/1301.3781.pdf): \n",
    "\n",
    "\"Since the more distant words are usually less related to the current word than those close to it, we give less weight to the distant words by sampling less from those words in our training examples... If we choose $C = 5$, for each training word we will select randomly a number $R$ in range $< 1; C >$, and then use $R$ words from history and $R$ words from the future of the current word as correct labels.\"\n",
    "\n",
    "> **Exercise:** Implement a function `get_target` that receives a list of words, an index, and a window size, then returns a list of words in the window around the index. Make sure to use the algorithm described above, where you choose a random number of words from the window."
   ]
  },
  {
   "cell_type": "code",
   "execution_count": 98,
   "metadata": {
    "collapsed": true,
    "deletable": true,
    "editable": true
   },
   "outputs": [],
   "source": [
    "def get_target(words, idx, window_size=5, random=True):\n",
    "    ''' Get a list of words in a window around an index. '''\n",
    "    # Your code here\n",
    "    if random:\n",
    "        R = np.random.randint(1, window_size+1)\n",
    "    else:\n",
    "        R = window_size\n",
    "        \n",
    "    start = idx - R if idx - R >0 else 0\n",
    "    stop = idx + R\n",
    "    out = set(words[start:idx] + words[start+1:stop+1])\n",
    "    return list(out)"
   ]
  },
  {
   "cell_type": "markdown",
   "metadata": {},
   "source": [
    "Here's a function that returns batches for our network. The idea is that it grabs `batch_size` words from a words list. Then for each of those words, it gets the target words in the window. I haven't found a way to pass in a random number of target words and get it to work with the architecture, so I make one row per input-target pair. This is a generator function by the way, helps save memory."
   ]
  },
  {
   "cell_type": "code",
   "execution_count": 63,
   "metadata": {
    "collapsed": false,
    "deletable": true,
    "editable": true
   },
   "outputs": [],
   "source": [
    "def get_batches(words, batch_size, window_size=5):\n",
    "    ''' Create a generator of word batches as a tuple (inputs, targets) '''\n",
    "    \n",
    "    n_batches = len(words)//batch_size\n",
    "    \n",
    "    # only full batches\n",
    "    words = words[:n_batches*batch_size]\n",
    "    \n",
    "    for idx in range(0, len(words), batch_size):\n",
    "        x, y = [], []\n",
    "        batch = words[idx:idx+batch_size]\n",
    "        for ii in range(len(batch)):\n",
    "            batch_x = batch[ii]\n",
    "            batch_y = get_target(batch, ii, window_size)\n",
    "            y.extend(batch_y)\n",
    "            x.extend([batch_x]*len(batch_y))\n",
    "        yield x, y\n",
    "    "
   ]
  },
  {
   "cell_type": "markdown",
   "metadata": {
    "collapsed": false
   },
   "source": [
    "## Building the graph\n",
    "\n",
    "From Chris McCormick's blog, we can see the general structure of our network.\n",
    "![embedding_network](./assets/skip_gram_net_arch.png)\n",
    "\n",
    "The input words are passed in as one-hot encoded vectors. This will go into a hidden layer of linear units, then into a softmax layer. We'll use the softmax layer to make a prediction like normal.\n",
    "\n",
    "The idea here is to train the hidden layer weight matrix to find efficient representations for our words. This weight matrix is usually called the embedding matrix or embedding look-up table. We can discard the softmax layer becuase we don't really care about making predictions with this network. We just want the embedding matrix so we can use it in other networks we build from the dataset.\n",
    "\n",
    "I'm going to have you build the graph in stages now. First off, creating the `inputs` and `labels` placeholders like normal.\n",
    "\n",
    "> **Exercise:** Assign `inputs` and `labels` using `tf.placeholder`. We're going to be passing in integers, so set the data types to `tf.int32`. The batches we're passing in will have varying sizes, so set the batch sizes to [`None`]. To make things work later, you'll need to set the second dimension of `labels` to `None` or `1`."
   ]
  },
  {
   "cell_type": "code",
   "execution_count": 84,
   "metadata": {
    "collapsed": false
   },
   "outputs": [],
   "source": [
    "train_graph = tf.Graph()\n",
    "with train_graph.as_default():\n",
    "    inputs = tf.placeholder(tf.int32, (None,))\n",
    "    labels = tf.placeholder(tf.int32, (None, None))"
   ]
  },
  {
   "cell_type": "markdown",
   "metadata": {},
   "source": [
    "## Embedding\n",
    "\n"
   ]
  },
  {
   "cell_type": "markdown",
   "metadata": {
    "collapsed": true
   },
   "source": [
    "The embedding matrix has a size of the number of words by the number of neurons in the hidden layer. So, if you have 10,000 words and 300 hidden units, the matrix will have size $10,000 \\times 300$. Remember that we're using one-hot encoded vectors for our inputs. When you do the matrix multiplication of the one-hot vector with the embedding matrix, you end up selecting only one row out of the entire matrix:\n",
    "\n",
    "![one-hot matrix multiplication](assets/matrix_mult_w_one_hot.png)\n",
    "\n",
    "You don't actually need to do the matrix multiplication, you just need to select the row in the embedding matrix that corresponds to the input word. Then, the embedding matrix becomes a lookup table, you're looking up a vector the size of the hidden layer that represents the input word.\n",
    "\n",
    "<img src=\"assets/word2vec_weight_matrix_lookup_table.png\" width=500>\n",
    "\n",
    "\n",
    "> **Exercise:** Tensorflow provides a convenient function [`tf.nn.embedding_lookup`](https://www.tensorflow.org/api_docs/python/tf/nn/embedding_lookup) that does this lookup for us. You pass in the embedding matrix and a tensor of integers, then it returns rows in the matrix corresponding to those integers. Below, set the number of embedding features you'll use (200 is a good start), create the embedding matrix variable, and use [`tf.nn.embedding_lookup`](https://www.tensorflow.org/api_docs/python/tf/nn/embedding_lookup) to get the embedding tensors. For the embedding matrix, I suggest you initialize it with a uniform random numbers between -1 and 1 using [tf.random_uniform](https://www.tensorflow.org/api_docs/python/tf/random_uniform). This [TensorFlow tutorial](https://www.tensorflow.org/tutorials/word2vec) will help if you get stuck."
   ]
  },
  {
   "cell_type": "code",
   "execution_count": 90,
   "metadata": {
    "collapsed": false
   },
   "outputs": [],
   "source": [
    "n_vocab = len(int_to_vocab)\n",
    "n_embedding = 256 # Number of embedding features \n",
    "with train_graph.as_default():\n",
    "    embedding = tf.Variable(tf.random_uniform([n_vocab, n_embedding], -1, -1)) # create embedding weight matrix here\n",
    "    embed = tf.nn.embedding_lookup(embedding, inputs) # use tf.nn.embedding_lookup to get the hidden layer output"
   ]
  },
  {
   "cell_type": "markdown",
   "metadata": {},
   "source": [
    "## Negative sampling\n",
    "\n"
   ]
  },
  {
   "cell_type": "markdown",
   "metadata": {},
   "source": [
    "For every example we give the network, we train it using the output from the softmax layer. That means for each input, we're making very small changes to millions of weights even though we only have one true example. This makes training the network very inefficient. We can approximate the loss from the softmax layer by only updating a small subset of all the weights at once. We'll update the weights for the correct label, but only a small number of incorrect labels. This is called [\"negative sampling\"](http://papers.nips.cc/paper/5021-distributed-representations-of-words-and-phrases-and-their-compositionality.pdf). Tensorflow has a convenient function to do this, [`tf.nn.sampled_softmax_loss`](https://www.tensorflow.org/api_docs/python/tf/nn/sampled_softmax_loss).\n",
    "\n",
    "> **Exercise:** Below, create weights and biases for the softmax layer. Then, use [`tf.nn.sampled_softmax_loss`](https://www.tensorflow.org/api_docs/python/tf/nn/sampled_softmax_loss) to calculate the loss. Be sure to read the documentation to figure out how it works."
   ]
  },
  {
   "cell_type": "code",
   "execution_count": 86,
   "metadata": {
    "collapsed": false
   },
   "outputs": [
    {
     "data": {
      "text/plain": [
       "[None]"
      ]
     },
     "execution_count": 86,
     "metadata": {},
     "output_type": "execute_result"
    }
   ],
   "source": [
    "inputs.get_shape().as_list()"
   ]
  },
  {
   "cell_type": "code",
   "execution_count": 87,
   "metadata": {
    "collapsed": false
   },
   "outputs": [
    {
     "data": {
      "text/plain": [
       "[63641, 256]"
      ]
     },
     "execution_count": 87,
     "metadata": {},
     "output_type": "execute_result"
    }
   ],
   "source": [
    "embedding.get_shape().as_list()"
   ]
  },
  {
   "cell_type": "code",
   "execution_count": 88,
   "metadata": {
    "collapsed": false
   },
   "outputs": [
    {
     "data": {
      "text/plain": [
       "[None, 256]"
      ]
     },
     "execution_count": 88,
     "metadata": {},
     "output_type": "execute_result"
    }
   ],
   "source": [
    "embed.get_shape().as_list()"
   ]
  },
  {
   "cell_type": "code",
   "execution_count": 93,
   "metadata": {
    "collapsed": false,
    "deletable": true,
    "editable": true
   },
   "outputs": [],
   "source": [
    "# Number of negative labels to sample\n",
    "n_sampled = 100\n",
    "with train_graph.as_default():\n",
    "    softmax_w = tf.Variable(tf.truncated_normal([n_vocab, n_embedding], stddev=0.1)) # create softmax weight matrix here\n",
    "    softmax_b = tf.Variable(tf.zeros(n_vocab))# create softmax biases here\n",
    "    \n",
    "    # Calculate the loss using negative sampling\n",
    "    loss = tf.nn.sampled_softmax_loss(softmax_w, softmax_b, labels, embed, n_sampled, n_vocab ) \n",
    "    \n",
    "    cost = tf.reduce_mean(loss)\n",
    "    optimizer = tf.train.AdamOptimizer().minimize(cost)"
   ]
  },
  {
   "cell_type": "markdown",
   "metadata": {},
   "source": [
    "## Validation\n",
    "\n",
    "This code is from Thushan Ganegedara's implementation. Here we're going to choose a few common words and few uncommon words. Then, we'll print out the closest words to them. It's a nice way to check that our embedding table is grouping together words with similar semantic meanings."
   ]
  },
  {
   "cell_type": "code",
   "execution_count": 95,
   "metadata": {
    "collapsed": false
   },
   "outputs": [],
   "source": [
    "import random\n",
    "with train_graph.as_default():\n",
    "    ## From Thushan Ganegedara's implementation\n",
    "    valid_size = 16 # Random set of words to evaluate similarity on.\n",
    "    valid_window = 100\n",
    "    # pick 8 samples from (0,100) and (1000,1100) each ranges. lower id implies more frequent \n",
    "    valid_examples = np.array(random.sample(range(valid_window), valid_size//2))\n",
    "    valid_examples = np.append(valid_examples, \n",
    "                               random.sample(range(1000,1000+valid_window), valid_size//2))\n",
    "\n",
    "    valid_dataset = tf.constant(valid_examples, dtype=tf.int32)\n",
    "    \n",
    "    # We use the cosine distance:\n",
    "    norm = tf.sqrt(tf.reduce_sum(tf.square(embedding), 1, keep_dims=True))\n",
    "    normalized_embedding = embedding / norm\n",
    "    valid_embedding = tf.nn.embedding_lookup(normalized_embedding, valid_dataset)\n",
    "    similarity = tf.matmul(valid_embedding, tf.transpose(normalized_embedding))"
   ]
  },
  {
   "cell_type": "code",
   "execution_count": 96,
   "metadata": {
    "collapsed": true,
    "deletable": true,
    "editable": true
   },
   "outputs": [],
   "source": [
    "# If the checkpoints directory doesn't exist:\n",
    "!mkdir checkpoints"
   ]
  },
  {
   "cell_type": "markdown",
   "metadata": {},
   "source": [
    "## Training\n",
    "\n",
    "Below is the code to train the network. Every 100 batches it reports the training loss. Every 1000 batches, it'll print out the validation words."
   ]
  },
  {
   "cell_type": "code",
   "execution_count": 99,
   "metadata": {
    "collapsed": false,
    "deletable": true,
    "editable": true
   },
   "outputs": [
    {
     "name": "stdout",
     "output_type": "stream",
     "text": [
      "Epoch 1/10 Iteration: 100 Avg. Training loss: 5.9884 0.1222 sec/batch\n",
      "Epoch 1/10 Iteration: 200 Avg. Training loss: 7.4473 0.1125 sec/batch\n",
      "Epoch 1/10 Iteration: 300 Avg. Training loss: 9.0847 0.1132 sec/batch\n",
      "Epoch 1/10 Iteration: 400 Avg. Training loss: 10.8268 0.1128 sec/batch\n",
      "Epoch 1/10 Iteration: 500 Avg. Training loss: 12.1550 0.1184 sec/batch\n",
      "Epoch 1/10 Iteration: 600 Avg. Training loss: 13.2720 0.1257 sec/batch\n",
      "Epoch 1/10 Iteration: 700 Avg. Training loss: 14.4383 0.1196 sec/batch\n",
      "Epoch 1/10 Iteration: 800 Avg. Training loss: 15.1760 0.1185 sec/batch\n",
      "Epoch 1/10 Iteration: 900 Avg. Training loss: 15.7819 0.1170 sec/batch\n",
      "Epoch 1/10 Iteration: 1000 Avg. Training loss: 16.9411 0.1179 sec/batch\n",
      "Nearest to known: employer, electorates, wafer, asean, foes, pashtunistan, dodge, rote,\n",
      "Nearest to after: conquers, joris, newark, fyodor, theorie, oneself, boundless, playmates,\n",
      "Nearest to however: legalism, rayleigh, bestows, dangerously, tk, fabled, monitors, whiskers,\n",
      "Nearest to these: bloating, simplistic, automatism, fremantle, hyperglycemia, starved, putatively, depictions,\n",
      "Nearest to a: oklahoma, neighbourhood, kauffman, seeing, bernhardt, purveyor, snippets, pitch,\n",
      "Nearest to there: dove, bedouins, overcoming, spp, claws, racquets, aglaulus, ectopic,\n",
      "Nearest to system: alcoba, abreu, incurable, hiroshima, sympathizer, connote, berkman, rabba,\n",
      "Nearest to most: avant, garde, fries, dinner, bakery, nursery, eschatology, dudley,\n",
      "Nearest to versions: intervocalic, morphologically, saturnalia, tungusic, jutsu, undp, revolutionists, natufian,\n",
      "Nearest to know: grin, keyhole, splashes, oes, rhus, emedicine, classificatory, emo,\n",
      "Nearest to pressure: anasazi, solf, refrigerant, nolo, nitrates, overlying, weierstrass, gallaudet,\n",
      "Nearest to cost: gynecology, pic, salk, kangra, remodelled, paedophilia, migraine, rescind,\n",
      "Nearest to mean: variance, almond, jmu, diversifying, retour, tchad, affaire, lillian,\n",
      "Nearest to magazine: swayed, iana, boh, kournikova, anselm, automorphism, utf, hingis,\n",
      "Nearest to behind: keto, exhumed, quarterback, kick, glanville, creighton, fumble, pendergast,\n",
      "Nearest to governor: teaming, vechten, forrester, heijenoort, zalta, penciller, plantes, theobromine,\n",
      "Epoch 1/10 Iteration: 1100 Avg. Training loss: 16.6916 0.1203 sec/batch\n",
      "Epoch 1/10 Iteration: 1200 Avg. Training loss: 17.7740 0.1204 sec/batch\n",
      "Epoch 1/10 Iteration: 1300 Avg. Training loss: 18.1315 0.1242 sec/batch\n",
      "Epoch 1/10 Iteration: 1400 Avg. Training loss: 18.5439 0.1254 sec/batch\n",
      "Epoch 1/10 Iteration: 1500 Avg. Training loss: 18.5988 0.1256 sec/batch\n",
      "Epoch 1/10 Iteration: 1600 Avg. Training loss: 18.3287 0.1391 sec/batch\n",
      "Epoch 1/10 Iteration: 1700 Avg. Training loss: 18.5151 0.1389 sec/batch\n",
      "Epoch 1/10 Iteration: 1800 Avg. Training loss: 18.8152 0.1408 sec/batch\n",
      "Epoch 1/10 Iteration: 1900 Avg. Training loss: 18.9214 0.1428 sec/batch\n",
      "Epoch 1/10 Iteration: 2000 Avg. Training loss: 18.4651 0.1528 sec/batch\n",
      "Nearest to known: employer, aircraft, castro, impair, conqueror, nigeria, harbours, mike,\n",
      "Nearest to after: screens, bob, host, joris, girls, revival, atomic, wages,\n",
      "Nearest to however: allies, monitors, seeking, julian, succeeded, demo, toxic, calculations,\n",
      "Nearest to these: comedian, surviving, linguists, mentioned, vernacular, coalitions, assertion, sydney,\n",
      "Nearest to a: high, own, important, systems, those, number, than, left,\n",
      "Nearest to there: stretch, reminiscent, recipients, suppression, canceled, winners, standing, scored,\n",
      "Nearest to system: torch, aug, moderated, laozi, alcoba, receives, founders, gia,\n",
      "Nearest to most: garde, output, avant, latin, fly, purchase, east, happened,\n",
      "Nearest to versions: spalding, tile, accademia, bemani, morphologically, asiatic, tungusic, terrestris,\n",
      "Nearest to know: dada, borgir, grin, quartered, transuranic, inaugurating, comptes, cycladic,\n",
      "Nearest to pressure: vapor, boiling, chromaticity, xm, saturation, hubble, schumpeter, nolo,\n",
      "Nearest to cost: twine, normalize, apocalypses, characterise, interleaving, kangra, frosty, helmsman,\n",
      "Nearest to mean: variance, almond, almonds, jmu, diversifying, pers, coherency, contrivance,\n",
      "Nearest to magazine: stradella, azteca, hyland, steadfastly, welk, oop, easters, anselm,\n",
      "Nearest to behind: skinner, fullback, ishi, rien, tarkenton, stances, randle, childress,\n",
      "Nearest to governor: vechten, coupler, ogura, teaming, abad, susima, dich, bindusara,\n",
      "Epoch 1/10 Iteration: 2100 Avg. Training loss: 18.7629 0.1488 sec/batch\n",
      "Epoch 1/10 Iteration: 2200 Avg. Training loss: 18.8296 0.1465 sec/batch\n",
      "Epoch 1/10 Iteration: 2300 Avg. Training loss: 19.0572 0.1580 sec/batch\n",
      "Epoch 1/10 Iteration: 2400 Avg. Training loss: 18.7344 0.1499 sec/batch\n",
      "Epoch 1/10 Iteration: 2500 Avg. Training loss: 19.4661 0.1531 sec/batch\n",
      "Epoch 1/10 Iteration: 2600 Avg. Training loss: 18.2653 0.1493 sec/batch\n",
      "Epoch 1/10 Iteration: 2700 Avg. Training loss: 17.8207 0.1528 sec/batch\n",
      "Epoch 1/10 Iteration: 2800 Avg. Training loss: 18.7666 0.1547 sec/batch\n",
      "Epoch 1/10 Iteration: 2900 Avg. Training loss: 18.3354 0.1544 sec/batch\n",
      "Epoch 1/10 Iteration: 3000 Avg. Training loss: 18.2032 0.1502 sec/batch\n",
      "Nearest to known: introduced, instance, successful, historical, rise, initially, records, phenomenon,\n",
      "Nearest to after: another, man, possibly, take, below, host, york, class,\n",
      "Nearest to however: wide, we, you, free, individual, divided, head, allies,\n",
      "Nearest to these: commonly, introduced, per, remains, mentioned, sources, along, lived,\n",
      "Nearest to a: high, important, those, own, life, left, systems, could,\n",
      "Nearest to there: entire, national, likely, king, gained, us, allowed, addition,\n",
      "Nearest to system: prominent, sweden, queen, torch, founders, opposite, possibility, depicted,\n",
      "Nearest to most: east, latin, government, already, rather, introduction, account, types,\n",
      "Nearest to versions: nigger, accademia, quintessential, hyperion, scotty, maul, reconfiguration, gamefaqs,\n",
      "Nearest to know: maze, thoughtful, diverges, pulsating, sears, omission, reorganizing, unexplained,\n",
      "Nearest to pressure: boiling, vapor, saturation, hubble, schumpeter, tre, conformal, gravitationally,\n",
      "Nearest to cost: exhumed, madame, guerilla, distract, ringed, ecological, ammonius, peary,\n",
      "Nearest to mean: variance, almond, propagated, edible, oecs, butte, kernel, mired,\n",
      "Nearest to magazine: anointed, caterpillar, oop, provably, tabernacle, distillation, grabbing, milman,\n",
      "Nearest to behind: skinner, superstition, elmwood, randle, cain, ers, dignity, thursday,\n",
      "Nearest to governor: miki, typifies, prophesies, hellenized, emden, reconciling, serendipity, unranked,\n",
      "Epoch 1/10 Iteration: 3100 Avg. Training loss: 17.8752 0.1578 sec/batch\n",
      "Epoch 1/10 Iteration: 3200 Avg. Training loss: 18.2069 0.1496 sec/batch\n",
      "Epoch 1/10 Iteration: 3300 Avg. Training loss: 17.0041 0.1496 sec/batch\n",
      "Epoch 1/10 Iteration: 3400 Avg. Training loss: 17.0014 0.1517 sec/batch\n",
      "Epoch 1/10 Iteration: 3500 Avg. Training loss: 17.3774 0.1507 sec/batch\n",
      "Epoch 1/10 Iteration: 3600 Avg. Training loss: 17.5689 0.1507 sec/batch\n",
      "Epoch 1/10 Iteration: 3700 Avg. Training loss: 16.9709 0.1512 sec/batch\n",
      "Epoch 1/10 Iteration: 3800 Avg. Training loss: 17.1936 0.1492 sec/batch\n",
      "Epoch 1/10 Iteration: 3900 Avg. Training loss: 16.7252 0.1483 sec/batch\n",
      "Epoch 1/10 Iteration: 4000 Avg. Training loss: 16.6275 0.1484 sec/batch\n",
      "Nearest to known: instance, initially, whole, music, rise, notable, introduced, highly,\n",
      "Nearest to after: another, man, below, possibly, office, leaving, economic, replaced,\n",
      "Nearest to however: wide, you, individual, free, we, elected, active, divided,\n",
      "Nearest to these: remains, efforts, laws, bring, mentioned, future, play, positions,\n",
      "Nearest to a: high, important, adopted, as, those, own, or, highly,\n",
      "Nearest to there: gained, entire, won, likely, w, ten, allowed, court,\n",
      "Nearest to system: prominent, organization, remaining, miles, possibility, causes, queen, expected,\n",
      "Nearest to most: latin, east, account, types, introduction, shows, contain, rock,\n",
      "Nearest to versions: hook, tile, tiles, haarlem, nigger, predate, asiatic, pyramids,\n",
      "Nearest to know: maybe, exceptional, mandatory, sums, tips, efficacy, inaugurated, sears,\n",
      "Nearest to pressure: boiling, vapor, saturation, hubble, tre, bang, morgan, pi,\n",
      "Nearest to cost: disciples, sworn, ecological, steer, madame, slot, scripts, marched,\n",
      "Nearest to mean: annexation, kernel, almond, variance, almonds, propagated, devoid, ij,\n",
      "Nearest to magazine: anointed, restrictive, mon, zeppelin, miners, distillation, guild, teamed,\n",
      "Nearest to behind: skinner, founding, superstition, dignity, catch, honorary, behavior, gaming,\n",
      "Nearest to governor: roaming, caput, hellenized, powerfully, shropshire, viability, ecowas, miki,\n",
      "Epoch 1/10 Iteration: 4100 Avg. Training loss: 16.9160 0.1516 sec/batch\n",
      "Epoch 1/10 Iteration: 4200 Avg. Training loss: 16.0120 0.1470 sec/batch\n",
      "Epoch 1/10 Iteration: 4300 Avg. Training loss: 15.6134 0.1485 sec/batch\n",
      "Epoch 1/10 Iteration: 4400 Avg. Training loss: 15.6046 0.1466 sec/batch\n",
      "Epoch 1/10 Iteration: 4500 Avg. Training loss: 15.5675 0.1486 sec/batch\n",
      "Epoch 1/10 Iteration: 4600 Avg. Training loss: 15.9050 0.1482 sec/batch\n",
      "Epoch 2/10 Iteration: 4700 Avg. Training loss: 15.6969 0.1020 sec/batch\n",
      "Epoch 2/10 Iteration: 4800 Avg. Training loss: 15.2623 0.1493 sec/batch\n",
      "Epoch 2/10 Iteration: 4900 Avg. Training loss: 16.3304 0.1473 sec/batch\n",
      "Epoch 2/10 Iteration: 5000 Avg. Training loss: 15.0107 0.1454 sec/batch\n",
      "Nearest to known: instance, hours, differences, records, sites, phenomenon, rise, seeing,\n",
      "Nearest to after: another, possibly, office, space, hands, below, man, section,\n",
      "Nearest to however: succeeded, wide, hands, rome, active, to, equipment, divided,\n",
      "Nearest to these: bring, impossible, efforts, argue, regular, developing, positions, laws,\n",
      "Nearest to a: high, as, important, adopted, involving, or, schools, employed,\n",
      "Nearest to there: made, gained, apparently, supposed, review, rapidly, picture, showed,\n",
      "Nearest to system: prominent, miles, capable, paper, possibility, remaining, queen, causes,\n",
      "Nearest to most: latin, account, east, contain, types, of, basic, be,\n",
      "Nearest to versions: nova, receives, stream, explosion, economies, ibm, uniform, uniquely,\n",
      "Nearest to know: bringing, piece, publications, maybe, joe, empty, exceptional, probable,\n",
      "Nearest to pressure: boiling, gas, expansion, vapor, freely, morgan, pi, aged,\n",
      "Nearest to cost: disciples, scattered, relates, exploit, bus, sworn, scripts, database,\n",
      "Nearest to mean: participate, handle, inhabitants, statistics, descriptions, divide, unemployment, di,\n",
      "Nearest to magazine: roads, van, ring, islamic, illustrated, stress, flourished, scheme,\n",
      "Nearest to behind: founding, describing, behavior, skinner, anything, route, neutral, thanks,\n",
      "Nearest to governor: warrior, simulation, shoot, math, phillip, appoint, verb, viability,\n",
      "Epoch 2/10 Iteration: 5100 Avg. Training loss: 15.1408 0.1455 sec/batch\n",
      "Epoch 2/10 Iteration: 5200 Avg. Training loss: 15.1743 0.1471 sec/batch\n",
      "Epoch 2/10 Iteration: 5300 Avg. Training loss: 14.4042 0.1468 sec/batch\n",
      "Epoch 2/10 Iteration: 5400 Avg. Training loss: 14.3229 0.1457 sec/batch\n",
      "Epoch 2/10 Iteration: 5500 Avg. Training loss: 13.9615 0.1442 sec/batch\n",
      "Epoch 2/10 Iteration: 5600 Avg. Training loss: 13.8479 0.1452 sec/batch\n",
      "Epoch 2/10 Iteration: 5700 Avg. Training loss: 13.3202 0.1478 sec/batch\n",
      "Epoch 2/10 Iteration: 5800 Avg. Training loss: 13.3227 0.1485 sec/batch\n",
      "Epoch 2/10 Iteration: 5900 Avg. Training loss: 12.9006 0.1482 sec/batch\n",
      "Epoch 2/10 Iteration: 6000 Avg. Training loss: 13.4509 0.1455 sec/batch\n",
      "Nearest to known: instance, hours, phenomenon, initially, sites, less, rise, differences,\n",
      "Nearest to after: another, interested, chemical, rapid, identity, hands, office, space,\n",
      "Nearest to however: to, allies, wide, seeking, head, it, equipment, succeeded,\n",
      "Nearest to these: also, bring, argue, efforts, interpreted, past, remains, representing,\n",
      "Nearest to a: as, the, high, of, important, or, by, adopted,\n",
      "Nearest to there: made, entire, of, national, supposed, apparently, no, gained,\n",
      "Nearest to system: prominent, repeatedly, remaining, capable, organization, depicted, captain, taught,\n",
      "Nearest to most: of, be, account, types, the, contain, east, reaching,\n",
      "Nearest to versions: receives, uniform, plane, proof, stream, advance, nova, economies,\n",
      "Nearest to know: empty, joe, maybe, exceptional, rolling, probable, stars, populated,\n",
      "Nearest to pressure: gas, expansion, freely, choosing, boiling, fly, surrounded, revival,\n",
      "Nearest to cost: scattered, reaction, identification, disciples, trip, christ, database, respective,\n",
      "Nearest to mean: participate, divide, handle, descriptions, unemployment, reserved, directions, corruption,\n",
      "Nearest to magazine: roads, variable, illustrated, van, ring, aims, organisation, pair,\n",
      "Nearest to behind: bob, machines, presumably, texas, murder, landed, pushed, telling,\n",
      "Nearest to governor: warrior, federation, block, mechanism, confusing, permits, symbolic, christians,\n",
      "Epoch 2/10 Iteration: 6100 Avg. Training loss: 13.5078 0.1477 sec/batch\n",
      "Epoch 2/10 Iteration: 6200 Avg. Training loss: 12.5025 0.1462 sec/batch\n",
      "Epoch 2/10 Iteration: 6300 Avg. Training loss: 12.6681 0.1456 sec/batch\n",
      "Epoch 2/10 Iteration: 6400 Avg. Training loss: 12.4807 0.1490 sec/batch\n",
      "Epoch 2/10 Iteration: 6500 Avg. Training loss: 12.9303 0.1511 sec/batch\n",
      "Epoch 2/10 Iteration: 6600 Avg. Training loss: 12.5207 0.1471 sec/batch\n",
      "Epoch 2/10 Iteration: 6700 Avg. Training loss: 11.7224 0.1484 sec/batch\n",
      "Epoch 2/10 Iteration: 6800 Avg. Training loss: 12.1221 0.1629 sec/batch\n",
      "Epoch 2/10 Iteration: 6900 Avg. Training loss: 12.4104 0.1569 sec/batch\n",
      "Epoch 2/10 Iteration: 7000 Avg. Training loss: 11.7765 0.1622 sec/batch\n",
      "Nearest to known: the, instance, of, popularly, phenomenon, opinion, and, hours,\n",
      "Nearest to after: another, and, the, to, were, was, interested, of,\n",
      "Nearest to however: to, the, it, and, allies, that, by, can,\n",
      "Nearest to these: also, argue, bring, efforts, but, interpreted, in, remains,\n",
      "Nearest to a: the, of, as, in, and, or, by, to,\n",
      "Nearest to there: the, of, made, a, apparently, national, by, to,\n",
      "Nearest to system: the, first, prominent, that, remaining, of, with, captain,\n",
      "Nearest to most: of, the, be, output, and, types, is, to,\n",
      "Nearest to versions: receives, uniform, of, advance, explosion, portal, economies, zones,\n",
      "Nearest to know: bringing, typically, for, joe, empty, contained, breaking, physics,\n",
      "Nearest to pressure: expansion, gas, decided, tracks, proceed, ministers, significant, federal,\n",
      "Nearest to cost: reaction, christ, scattered, respective, database, tested, cheap, relates,\n",
      "Nearest to mean: be, divide, participate, unemployment, differences, occupy, dean, resolve,\n",
      "Nearest to magazine: variable, aims, pull, determines, roads, alter, illustrated, gross,\n",
      "Nearest to behind: soon, power, describing, murder, region, catch, stopped, pushed,\n",
      "Nearest to governor: warrior, confusing, disagreement, permits, math, federation, simulation, foods,\n",
      "Epoch 2/10 Iteration: 7100 Avg. Training loss: 12.3387 0.1585 sec/batch\n",
      "Epoch 2/10 Iteration: 7200 Avg. Training loss: 11.5431 0.1595 sec/batch\n",
      "Epoch 2/10 Iteration: 7300 Avg. Training loss: 11.0456 0.1545 sec/batch\n",
      "Epoch 2/10 Iteration: 7400 Avg. Training loss: 11.4277 0.1556 sec/batch\n",
      "Epoch 2/10 Iteration: 7500 Avg. Training loss: 11.4505 0.1544 sec/batch\n",
      "Epoch 2/10 Iteration: 7600 Avg. Training loss: 10.9850 0.1559 sec/batch\n",
      "Epoch 2/10 Iteration: 7700 Avg. Training loss: 10.8433 0.1563 sec/batch\n",
      "Epoch 2/10 Iteration: 7800 Avg. Training loss: 11.1346 0.1587 sec/batch\n",
      "Epoch 2/10 Iteration: 7900 Avg. Training loss: 10.2599 0.1588 sec/batch\n",
      "Epoch 2/10 Iteration: 8000 Avg. Training loss: 10.3976 0.1592 sec/batch\n",
      "Nearest to known: the, of, and, a, popularly, opinion, instance, to,\n",
      "Nearest to after: and, another, the, of, to, was, one, were,\n",
      "Nearest to however: to, the, and, it, of, that, in, by,\n",
      "Nearest to these: also, in, bring, the, argue, of, but, efforts,\n",
      "Nearest to a: the, of, in, and, as, to, for, is,\n",
      "Nearest to there: of, the, a, to, and, by, as, in,\n",
      "Nearest to system: the, of, first, in, with, that, and, a,\n",
      "Nearest to most: the, of, be, and, to, in, is, by,\n",
      "Nearest to versions: of, the, receives, queen, plane, legal, note, two,\n",
      "Nearest to know: for, to, bringing, the, already, contained, typically, even,\n",
      "Nearest to pressure: of, the, to, decided, with, it, for, and,\n",
      "Nearest to cost: readily, of, respective, zero, cheap, scattered, reaction, expensive,\n",
      "Nearest to mean: be, to, of, and, the, a, one, differences,\n",
      "Nearest to magazine: such, freely, the, of, a, aims, also, ways,\n",
      "Nearest to behind: are, soon, power, region, describing, to, nearly, average,\n",
      "Nearest to governor: warrior, determine, reason, internationally, governing, countries, indicates, federation,\n",
      "Epoch 2/10 Iteration: 8100 Avg. Training loss: 10.4807 0.1626 sec/batch\n",
      "Epoch 2/10 Iteration: 8200 Avg. Training loss: 11.1478 0.1577 sec/batch\n",
      "Epoch 2/10 Iteration: 8300 Avg. Training loss: 10.0715 0.1565 sec/batch\n",
      "Epoch 2/10 Iteration: 8400 Avg. Training loss: 10.9091 0.1583 sec/batch\n",
      "Epoch 2/10 Iteration: 8500 Avg. Training loss: 10.8919 0.1585 sec/batch\n",
      "Epoch 2/10 Iteration: 8600 Avg. Training loss: 9.7092 0.1563 sec/batch\n",
      "Epoch 2/10 Iteration: 8700 Avg. Training loss: 10.8900 0.1622 sec/batch\n",
      "Epoch 2/10 Iteration: 8800 Avg. Training loss: 10.2301 0.1634 sec/batch\n",
      "Epoch 2/10 Iteration: 8900 Avg. Training loss: 9.6703 0.1609 sec/batch\n",
      "Epoch 2/10 Iteration: 9000 Avg. Training loss: 9.6427 0.1611 sec/batch\n",
      "Nearest to known: the, popularly, of, a, opinion, and, as, to,\n",
      "Nearest to after: and, was, another, of, the, to, one, elections,\n",
      "Nearest to however: to, the, it, of, and, that, allies, by,\n",
      "Nearest to these: also, in, the, argue, of, a, but, bring,\n",
      "Nearest to a: of, the, in, to, as, and, by, is,\n",
      "Nearest to there: of, the, a, to, in, as, by, have,\n",
      "Nearest to system: the, of, expand, with, prominent, that, first, in,\n",
      "Nearest to most: of, the, be, to, is, in, and, a,\n",
      "Nearest to versions: of, the, a, legal, plane, receives, other, queen,\n",
      "Nearest to know: for, to, already, bringing, even, are, is, the,\n",
      "Nearest to pressure: of, the, to, it, with, significant, billion, for,\n",
      "Nearest to cost: of, deemed, openly, readily, zero, in, racial, touch,\n",
      "Nearest to mean: be, to, of, and, a, the, is, as,\n",
      "Nearest to magazine: the, freely, such, of, a, gross, to, and,\n",
      "Nearest to behind: to, are, soon, poverty, power, promising, in, describing,\n",
      "Nearest to governor: eight, warrior, two, governing, determine, elections, publishing, countries,\n",
      "Epoch 2/10 Iteration: 9100 Avg. Training loss: 9.7150 0.1602 sec/batch\n",
      "Epoch 2/10 Iteration: 9200 Avg. Training loss: 9.8139 0.1590 sec/batch\n",
      "Epoch 3/10 Iteration: 9300 Avg. Training loss: 9.7099 0.0715 sec/batch\n",
      "Epoch 3/10 Iteration: 9400 Avg. Training loss: 9.4727 0.1644 sec/batch\n",
      "Epoch 3/10 Iteration: 9500 Avg. Training loss: 9.8487 0.1584 sec/batch\n",
      "Epoch 3/10 Iteration: 9600 Avg. Training loss: 9.7990 0.1620 sec/batch\n",
      "Epoch 3/10 Iteration: 9700 Avg. Training loss: 9.3782 0.1547 sec/batch\n",
      "Epoch 3/10 Iteration: 9800 Avg. Training loss: 9.8312 0.1626 sec/batch\n",
      "Epoch 3/10 Iteration: 9900 Avg. Training loss: 9.0418 0.1549 sec/batch\n",
      "Epoch 3/10 Iteration: 10000 Avg. Training loss: 8.8901 0.1588 sec/batch\n",
      "Nearest to known: popularly, opinion, of, conclude, the, transmission, hours, a,\n",
      "Nearest to after: was, another, elections, were, enhanced, one, to, somewhere,\n",
      "Nearest to however: to, it, allies, seldom, that, the, of, and,\n",
      "Nearest to these: also, tremendous, argue, bring, in, a, the, efforts,\n",
      "Nearest to a: of, in, to, as, the, it, and, is,\n",
      "Nearest to there: of, a, the, to, have, antiquity, apparently, is,\n",
      "Nearest to system: expand, of, the, authorized, prominent, screen, with, location,\n",
      "Nearest to most: the, evolve, of, be, continental, is, to, happened,\n",
      "Nearest to versions: of, receives, the, legal, plane, a, zones, discontinued,\n",
      "Nearest to know: to, for, not, we, bringing, even, is, already,\n",
      "Nearest to pressure: of, the, with, it, to, significant, billion, revival,\n",
      "Nearest to cost: racial, of, expensive, motivated, absolute, respective, deemed, grants,\n",
      "Nearest to mean: be, myself, to, of, unemployment, is, corruption, as,\n",
      "Nearest to magazine: gross, freely, expand, pull, such, the, organised, seek,\n",
      "Nearest to behind: to, promising, are, soon, attractive, poverty, seldom, bottom,\n",
      "Nearest to governor: elections, governing, eight, two, warrior, thirteen, countries, determine,\n",
      "Epoch 3/10 Iteration: 10100 Avg. Training loss: 8.8866 0.1553 sec/batch\n",
      "Epoch 3/10 Iteration: 10200 Avg. Training loss: 9.0175 0.1554 sec/batch\n",
      "Epoch 3/10 Iteration: 10300 Avg. Training loss: 8.7071 0.1581 sec/batch\n",
      "Epoch 3/10 Iteration: 10400 Avg. Training loss: 8.2922 0.1600 sec/batch\n",
      "Epoch 3/10 Iteration: 10500 Avg. Training loss: 8.5094 0.1592 sec/batch\n",
      "Epoch 3/10 Iteration: 10600 Avg. Training loss: 8.3139 0.1576 sec/batch\n",
      "Epoch 3/10 Iteration: 10700 Avg. Training loss: 9.1795 0.1689 sec/batch\n",
      "Epoch 3/10 Iteration: 10800 Avg. Training loss: 8.5956 0.1584 sec/batch\n",
      "Epoch 3/10 Iteration: 10900 Avg. Training loss: 8.0448 0.1603 sec/batch\n",
      "Epoch 3/10 Iteration: 11000 Avg. Training loss: 8.2951 0.1576 sec/batch\n",
      "Nearest to known: popularly, conclude, opinion, misleading, transmission, everyone, viii, antiquity,\n",
      "Nearest to after: another, enhanced, successes, seldom, elections, was, somewhere, firmly,\n",
      "Nearest to however: to, prestige, seldom, allies, campus, modifications, it, struggled,\n",
      "Nearest to these: tremendous, satisfaction, illustrate, entities, bring, argue, acceptable, farther,\n",
      "Nearest to a: reasonably, accessible, subtle, inaccurate, sects, solved, measurements, transmitted,\n",
      "Nearest to there: stretch, reminiscent, zones, antiquity, grants, neighboring, wouldn, progressed,\n",
      "Nearest to system: expand, judiciary, authorized, managing, discuss, priority, screen, receives,\n",
      "Nearest to most: evolve, govern, expulsion, continental, racial, universally, grants, orthodoxy,\n",
      "Nearest to versions: receives, of, zones, interpretations, plane, uniform, discontinued, cultures,\n",
      "Nearest to know: exceptional, maybe, empty, balanced, capabilities, distinguishes, labeled, for,\n",
      "Nearest to pressure: proceed, with, billion, backing, significant, depended, of, tracks,\n",
      "Nearest to cost: supremacy, racial, instances, expensive, informally, motivated, respective, deemed,\n",
      "Nearest to mean: myself, be, divide, desirable, corruption, suspect, differing, unemployment,\n",
      "Nearest to magazine: gross, talents, freely, aims, flourished, broadcasts, struggled, organised,\n",
      "Nearest to behind: promising, attractive, minds, seldom, soon, missing, consume, classics,\n",
      "Nearest to governor: governing, elections, legislative, appointed, warrior, thirteen, eight, disagreement,\n",
      "Epoch 3/10 Iteration: 11100 Avg. Training loss: 8.5049 0.1653 sec/batch\n",
      "Epoch 3/10 Iteration: 11200 Avg. Training loss: 8.7357 0.1633 sec/batch\n",
      "Epoch 3/10 Iteration: 11300 Avg. Training loss: 7.8602 0.1665 sec/batch\n",
      "Epoch 3/10 Iteration: 11400 Avg. Training loss: 7.9983 0.1543 sec/batch\n",
      "Epoch 3/10 Iteration: 11500 Avg. Training loss: 8.1702 0.1568 sec/batch\n",
      "Epoch 3/10 Iteration: 11600 Avg. Training loss: 7.9275 0.1587 sec/batch\n",
      "Epoch 3/10 Iteration: 11700 Avg. Training loss: 7.9733 0.1560 sec/batch\n",
      "Epoch 3/10 Iteration: 11800 Avg. Training loss: 8.2327 0.1590 sec/batch\n",
      "Epoch 3/10 Iteration: 11900 Avg. Training loss: 7.4341 0.1579 sec/batch\n",
      "Epoch 3/10 Iteration: 12000 Avg. Training loss: 7.8394 0.1576 sec/batch\n",
      "Nearest to known: popularly, conclude, suggestion, commissioner, transmission, recognise, empirical, opinion,\n",
      "Nearest to after: another, devastated, firmly, disrupted, oneself, session, dominate, controversies,\n",
      "Nearest to however: prestige, detect, modifications, struggled, seldom, to, campus, jews,\n",
      "Nearest to these: satisfaction, courses, illustrate, suspect, empirical, entities, shoot, verse,\n",
      "Nearest to a: experimentation, sects, interact, reasonably, intuitive, platforms, inaccurate, commanding,\n",
      "Nearest to there: reminiscent, antiquity, stretch, happiness, zones, individually, minds, payment,\n",
      "Nearest to system: managing, coordinate, summarized, judiciary, elementary, expand, graphics, authorized,\n",
      "Nearest to most: evolve, expulsion, flourished, foreigners, orthodoxy, conform, govern, universally,\n",
      "Nearest to versions: vendors, inaccurate, recognizes, zones, receives, histories, cultures, discontinued,\n",
      "Nearest to know: maybe, exceptional, empty, violated, distinguishes, we, recall, imagine,\n",
      "Nearest to pressure: depended, proceed, sectors, negligible, tracks, regulate, detect, intent,\n",
      "Nearest to cost: supremacy, instances, distribute, racial, informally, exploit, tribal, costs,\n",
      "Nearest to mean: myself, be, suspect, divide, desirable, boost, corruption, locate,\n",
      "Nearest to magazine: gross, flourished, talents, licensing, aims, broadcasts, freely, overlooked,\n",
      "Nearest to behind: reconcile, attractive, promising, trips, dignity, deprived, seldom, minds,\n",
      "Nearest to governor: elections, governing, appointed, legislative, suffrage, warrior, voted, assassination,\n",
      "Epoch 3/10 Iteration: 12100 Avg. Training loss: 8.1086 0.1581 sec/batch\n",
      "Epoch 3/10 Iteration: 12200 Avg. Training loss: 7.4738 0.1562 sec/batch\n",
      "Epoch 3/10 Iteration: 12300 Avg. Training loss: 7.6671 0.1561 sec/batch\n",
      "Epoch 3/10 Iteration: 12400 Avg. Training loss: 7.6531 0.1589 sec/batch\n",
      "Epoch 3/10 Iteration: 12500 Avg. Training loss: 7.4769 0.1601 sec/batch\n",
      "Epoch 3/10 Iteration: 12600 Avg. Training loss: 7.1155 0.1710 sec/batch\n",
      "Epoch 3/10 Iteration: 12700 Avg. Training loss: 7.3641 0.1555 sec/batch\n",
      "Epoch 3/10 Iteration: 12800 Avg. Training loss: 7.8831 0.1394 sec/batch\n",
      "Epoch 3/10 Iteration: 12900 Avg. Training loss: 7.0139 0.1388 sec/batch\n",
      "Epoch 3/10 Iteration: 13000 Avg. Training loss: 7.5400 0.1415 sec/batch\n",
      "Nearest to known: popularly, conclude, commissioner, suggestion, transmission, recognise, flourishing, verse,\n",
      "Nearest to after: aristocratic, another, devastated, statute, ceremony, bob, stuck, was,\n",
      "Nearest to however: prestige, adjusted, jews, detect, implied, forcibly, visually, subordinate,\n",
      "Nearest to these: satisfaction, courses, empirical, suspect, illustrate, sheer, verse, trusted,\n",
      "Nearest to a: experimentation, intuitive, reasonably, hierarchy, interact, manipulation, platforms, attach,\n",
      "Nearest to there: observable, happiness, believers, reminiscent, entails, jurisdiction, stretch, antiquity,\n",
      "Nearest to system: systems, convey, coordinate, summarized, cellular, bus, overlapping, graphics,\n",
      "Nearest to most: evolve, expulsion, negligible, foreigners, nomadic, clarify, orthodoxy, investors,\n",
      "Nearest to versions: generates, vendors, inaccurate, interfaces, histories, recognizes, zones, corner,\n",
      "Nearest to know: exceptional, distinguishes, maybe, we, recall, empty, violated, imagine,\n",
      "Nearest to pressure: depended, regulate, attracts, intent, compute, negligible, proceed, significant,\n",
      "Nearest to cost: supremacy, expensive, exploit, delays, informally, upgrade, instances, distribute,\n",
      "Nearest to mean: be, myself, appreciated, locate, suspect, sexuality, contradiction, differences,\n",
      "Nearest to magazine: gross, restrictive, talents, flourished, licensing, broadcasts, overlooked, freely,\n",
      "Nearest to behind: dignity, reconcile, deprived, ears, complications, attractive, promising, trips,\n",
      "Nearest to governor: appointed, assassination, legislative, elections, appoint, suffrage, emmanuel, unicameral,\n",
      "Epoch 3/10 Iteration: 13100 Avg. Training loss: 8.2283 0.1543 sec/batch\n",
      "Epoch 3/10 Iteration: 13200 Avg. Training loss: 6.9819 0.1514 sec/batch\n",
      "Epoch 3/10 Iteration: 13300 Avg. Training loss: 7.7581 0.1472 sec/batch\n",
      "Epoch 3/10 Iteration: 13400 Avg. Training loss: 7.4298 0.1522 sec/batch\n",
      "Epoch 3/10 Iteration: 13500 Avg. Training loss: 6.9998 0.1477 sec/batch\n",
      "Epoch 3/10 Iteration: 13600 Avg. Training loss: 7.1100 0.1504 sec/batch\n",
      "Epoch 3/10 Iteration: 13700 Avg. Training loss: 7.0449 0.1487 sec/batch\n",
      "Epoch 3/10 Iteration: 13800 Avg. Training loss: 7.1391 0.1488 sec/batch\n",
      "Epoch 4/10 Iteration: 13900 Avg. Training loss: 7.2902 0.0161 sec/batch\n",
      "Epoch 4/10 Iteration: 14000 Avg. Training loss: 7.2131 0.1522 sec/batch\n",
      "Nearest to known: popularly, flourishing, strained, norse, suggestion, tragic, guides, conclude,\n",
      "Nearest to after: aristocratic, devastated, disbanded, dismissal, dominate, ellen, was, factions,\n",
      "Nearest to however: visually, prestige, metric, implied, outsiders, confuse, detect, forcibly,\n",
      "Nearest to these: satisfaction, foundational, outcomes, empirical, trusted, courses, specifies, instrumentation,\n",
      "Nearest to a: experimentation, intuitive, attach, transforming, tolerated, hierarchy, neighbourhood, manipulation,\n",
      "Nearest to there: observable, entails, behaviors, jurisdiction, reminiscent, happiness, checks, no,\n",
      "Nearest to system: systems, operating, cellular, dragon, employers, correlation, summarized, applies,\n",
      "Nearest to most: evolve, negligible, employers, clarify, foreigners, midwest, investors, nomadic,\n",
      "Nearest to versions: ibm, compatible, directories, utilities, interfaces, vendors, generates, unix,\n",
      "Nearest to know: distinguishes, we, maybe, you, anybody, exceptional, empty, imagine,\n",
      "Nearest to pressure: depended, attracts, adjust, compute, significant, predict, regulate, symmetry,\n",
      "Nearest to cost: expensive, costs, upgrade, delays, melodies, exploit, standardization, slot,\n",
      "Nearest to mean: geometric, be, contradiction, locate, x, multiplication, differences, profoundly,\n",
      "Nearest to magazine: restrictive, gross, talents, licensing, stature, murderer, interviews, rid,\n",
      "Nearest to behind: dignity, reconcile, complications, undermined, delegation, progression, amidst, notoriety,\n",
      "Nearest to governor: appointed, legislative, unicameral, elections, bicameral, peacefully, elected, emmanuel,\n",
      "Epoch 4/10 Iteration: 14100 Avg. Training loss: 7.0769 0.1511 sec/batch\n",
      "Epoch 4/10 Iteration: 14200 Avg. Training loss: 7.3763 0.1486 sec/batch\n",
      "Epoch 4/10 Iteration: 14300 Avg. Training loss: 6.8873 0.1494 sec/batch\n",
      "Epoch 4/10 Iteration: 14400 Avg. Training loss: 7.4647 0.1499 sec/batch\n",
      "Epoch 4/10 Iteration: 14500 Avg. Training loss: 7.0009 0.1531 sec/batch\n",
      "Epoch 4/10 Iteration: 14600 Avg. Training loss: 6.8213 0.1556 sec/batch\n",
      "Epoch 4/10 Iteration: 14700 Avg. Training loss: 6.8047 0.1481 sec/batch\n",
      "Epoch 4/10 Iteration: 14800 Avg. Training loss: 6.9463 0.1379 sec/batch\n",
      "Epoch 4/10 Iteration: 14900 Avg. Training loss: 6.8338 0.1434 sec/batch\n"
     ]
    },
    {
     "ename": "KeyboardInterrupt",
     "evalue": "",
     "output_type": "error",
     "traceback": [
      "\u001b[0;31m---------------------------------------------------------------------------\u001b[0m",
      "\u001b[0;31mKeyboardInterrupt\u001b[0m                         Traceback (most recent call last)",
      "\u001b[0;32m<ipython-input-99-b1d3869cd0d6>\u001b[0m in \u001b[0;36m<module>\u001b[0;34m()\u001b[0m\n\u001b[1;32m     18\u001b[0m             feed = {inputs: x,\n\u001b[1;32m     19\u001b[0m                     labels: np.array(y)[:, None]}\n\u001b[0;32m---> 20\u001b[0;31m             \u001b[0mtrain_loss\u001b[0m\u001b[0;34m,\u001b[0m \u001b[0m_\u001b[0m \u001b[0;34m=\u001b[0m \u001b[0msess\u001b[0m\u001b[0;34m.\u001b[0m\u001b[0mrun\u001b[0m\u001b[0;34m(\u001b[0m\u001b[0;34m[\u001b[0m\u001b[0mcost\u001b[0m\u001b[0;34m,\u001b[0m \u001b[0moptimizer\u001b[0m\u001b[0;34m]\u001b[0m\u001b[0;34m,\u001b[0m \u001b[0mfeed_dict\u001b[0m\u001b[0;34m=\u001b[0m\u001b[0mfeed\u001b[0m\u001b[0;34m)\u001b[0m\u001b[0;34m\u001b[0m\u001b[0m\n\u001b[0m\u001b[1;32m     21\u001b[0m \u001b[0;34m\u001b[0m\u001b[0m\n\u001b[1;32m     22\u001b[0m             \u001b[0mloss\u001b[0m \u001b[0;34m+=\u001b[0m \u001b[0mtrain_loss\u001b[0m\u001b[0;34m\u001b[0m\u001b[0m\n",
      "\u001b[0;32m/home/luo/anaconda2/envs/dlnd/lib/python3.6/site-packages/tensorflow/python/client/session.py\u001b[0m in \u001b[0;36mrun\u001b[0;34m(self, fetches, feed_dict, options, run_metadata)\u001b[0m\n\u001b[1;32m    765\u001b[0m     \u001b[0;32mtry\u001b[0m\u001b[0;34m:\u001b[0m\u001b[0;34m\u001b[0m\u001b[0m\n\u001b[1;32m    766\u001b[0m       result = self._run(None, fetches, feed_dict, options_ptr,\n\u001b[0;32m--> 767\u001b[0;31m                          run_metadata_ptr)\n\u001b[0m\u001b[1;32m    768\u001b[0m       \u001b[0;32mif\u001b[0m \u001b[0mrun_metadata\u001b[0m\u001b[0;34m:\u001b[0m\u001b[0;34m\u001b[0m\u001b[0m\n\u001b[1;32m    769\u001b[0m         \u001b[0mproto_data\u001b[0m \u001b[0;34m=\u001b[0m \u001b[0mtf_session\u001b[0m\u001b[0;34m.\u001b[0m\u001b[0mTF_GetBuffer\u001b[0m\u001b[0;34m(\u001b[0m\u001b[0mrun_metadata_ptr\u001b[0m\u001b[0;34m)\u001b[0m\u001b[0;34m\u001b[0m\u001b[0m\n",
      "\u001b[0;32m/home/luo/anaconda2/envs/dlnd/lib/python3.6/site-packages/tensorflow/python/client/session.py\u001b[0m in \u001b[0;36m_run\u001b[0;34m(self, handle, fetches, feed_dict, options, run_metadata)\u001b[0m\n\u001b[1;32m    963\u001b[0m     \u001b[0;32mif\u001b[0m \u001b[0mfinal_fetches\u001b[0m \u001b[0;32mor\u001b[0m \u001b[0mfinal_targets\u001b[0m\u001b[0;34m:\u001b[0m\u001b[0;34m\u001b[0m\u001b[0m\n\u001b[1;32m    964\u001b[0m       results = self._do_run(handle, final_targets, final_fetches,\n\u001b[0;32m--> 965\u001b[0;31m                              feed_dict_string, options, run_metadata)\n\u001b[0m\u001b[1;32m    966\u001b[0m     \u001b[0;32melse\u001b[0m\u001b[0;34m:\u001b[0m\u001b[0;34m\u001b[0m\u001b[0m\n\u001b[1;32m    967\u001b[0m       \u001b[0mresults\u001b[0m \u001b[0;34m=\u001b[0m \u001b[0;34m[\u001b[0m\u001b[0;34m]\u001b[0m\u001b[0;34m\u001b[0m\u001b[0m\n",
      "\u001b[0;32m/home/luo/anaconda2/envs/dlnd/lib/python3.6/site-packages/tensorflow/python/client/session.py\u001b[0m in \u001b[0;36m_do_run\u001b[0;34m(self, handle, target_list, fetch_list, feed_dict, options, run_metadata)\u001b[0m\n\u001b[1;32m   1013\u001b[0m     \u001b[0;32mif\u001b[0m \u001b[0mhandle\u001b[0m \u001b[0;32mis\u001b[0m \u001b[0;32mNone\u001b[0m\u001b[0;34m:\u001b[0m\u001b[0;34m\u001b[0m\u001b[0m\n\u001b[1;32m   1014\u001b[0m       return self._do_call(_run_fn, self._session, feed_dict, fetch_list,\n\u001b[0;32m-> 1015\u001b[0;31m                            target_list, options, run_metadata)\n\u001b[0m\u001b[1;32m   1016\u001b[0m     \u001b[0;32melse\u001b[0m\u001b[0;34m:\u001b[0m\u001b[0;34m\u001b[0m\u001b[0m\n\u001b[1;32m   1017\u001b[0m       return self._do_call(_prun_fn, self._session, handle, feed_dict,\n",
      "\u001b[0;32m/home/luo/anaconda2/envs/dlnd/lib/python3.6/site-packages/tensorflow/python/client/session.py\u001b[0m in \u001b[0;36m_do_call\u001b[0;34m(self, fn, *args)\u001b[0m\n\u001b[1;32m   1020\u001b[0m   \u001b[0;32mdef\u001b[0m \u001b[0m_do_call\u001b[0m\u001b[0;34m(\u001b[0m\u001b[0mself\u001b[0m\u001b[0;34m,\u001b[0m \u001b[0mfn\u001b[0m\u001b[0;34m,\u001b[0m \u001b[0;34m*\u001b[0m\u001b[0margs\u001b[0m\u001b[0;34m)\u001b[0m\u001b[0;34m:\u001b[0m\u001b[0;34m\u001b[0m\u001b[0m\n\u001b[1;32m   1021\u001b[0m     \u001b[0;32mtry\u001b[0m\u001b[0;34m:\u001b[0m\u001b[0;34m\u001b[0m\u001b[0m\n\u001b[0;32m-> 1022\u001b[0;31m       \u001b[0;32mreturn\u001b[0m \u001b[0mfn\u001b[0m\u001b[0;34m(\u001b[0m\u001b[0;34m*\u001b[0m\u001b[0margs\u001b[0m\u001b[0;34m)\u001b[0m\u001b[0;34m\u001b[0m\u001b[0m\n\u001b[0m\u001b[1;32m   1023\u001b[0m     \u001b[0;32mexcept\u001b[0m \u001b[0merrors\u001b[0m\u001b[0;34m.\u001b[0m\u001b[0mOpError\u001b[0m \u001b[0;32mas\u001b[0m \u001b[0me\u001b[0m\u001b[0;34m:\u001b[0m\u001b[0;34m\u001b[0m\u001b[0m\n\u001b[1;32m   1024\u001b[0m       \u001b[0mmessage\u001b[0m \u001b[0;34m=\u001b[0m \u001b[0mcompat\u001b[0m\u001b[0;34m.\u001b[0m\u001b[0mas_text\u001b[0m\u001b[0;34m(\u001b[0m\u001b[0me\u001b[0m\u001b[0;34m.\u001b[0m\u001b[0mmessage\u001b[0m\u001b[0;34m)\u001b[0m\u001b[0;34m\u001b[0m\u001b[0m\n",
      "\u001b[0;32m/home/luo/anaconda2/envs/dlnd/lib/python3.6/site-packages/tensorflow/python/client/session.py\u001b[0m in \u001b[0;36m_run_fn\u001b[0;34m(session, feed_dict, fetch_list, target_list, options, run_metadata)\u001b[0m\n\u001b[1;32m   1002\u001b[0m         return tf_session.TF_Run(session, options,\n\u001b[1;32m   1003\u001b[0m                                  \u001b[0mfeed_dict\u001b[0m\u001b[0;34m,\u001b[0m \u001b[0mfetch_list\u001b[0m\u001b[0;34m,\u001b[0m \u001b[0mtarget_list\u001b[0m\u001b[0;34m,\u001b[0m\u001b[0;34m\u001b[0m\u001b[0m\n\u001b[0;32m-> 1004\u001b[0;31m                                  status, run_metadata)\n\u001b[0m\u001b[1;32m   1005\u001b[0m \u001b[0;34m\u001b[0m\u001b[0m\n\u001b[1;32m   1006\u001b[0m     \u001b[0;32mdef\u001b[0m \u001b[0m_prun_fn\u001b[0m\u001b[0;34m(\u001b[0m\u001b[0msession\u001b[0m\u001b[0;34m,\u001b[0m \u001b[0mhandle\u001b[0m\u001b[0;34m,\u001b[0m \u001b[0mfeed_dict\u001b[0m\u001b[0;34m,\u001b[0m \u001b[0mfetch_list\u001b[0m\u001b[0;34m)\u001b[0m\u001b[0;34m:\u001b[0m\u001b[0;34m\u001b[0m\u001b[0m\n",
      "\u001b[0;31mKeyboardInterrupt\u001b[0m: "
     ]
    }
   ],
   "source": [
    "epochs = 10\n",
    "batch_size = 1000\n",
    "window_size = 10\n",
    "\n",
    "with train_graph.as_default():\n",
    "    saver = tf.train.Saver()\n",
    "\n",
    "with tf.Session(graph=train_graph) as sess:\n",
    "    iteration = 1\n",
    "    loss = 0\n",
    "    sess.run(tf.global_variables_initializer())\n",
    "\n",
    "    for e in range(1, epochs+1):\n",
    "        batches = get_batches(train_words, batch_size, window_size)\n",
    "        start = time.time()\n",
    "        for x, y in batches:\n",
    "            \n",
    "            feed = {inputs: x,\n",
    "                    labels: np.array(y)[:, None]}\n",
    "            train_loss, _ = sess.run([cost, optimizer], feed_dict=feed)\n",
    "            \n",
    "            loss += train_loss\n",
    "            \n",
    "            if iteration % 100 == 0: \n",
    "                end = time.time()\n",
    "                print(\"Epoch {}/{}\".format(e, epochs),\n",
    "                      \"Iteration: {}\".format(iteration),\n",
    "                      \"Avg. Training loss: {:.4f}\".format(loss/100),\n",
    "                      \"{:.4f} sec/batch\".format((end-start)/100))\n",
    "                loss = 0\n",
    "                start = time.time()\n",
    "            \n",
    "            if iteration % 1000 == 0:\n",
    "                ## From Thushan Ganegedara's implementation\n",
    "                # note that this is expensive (~20% slowdown if computed every 500 steps)\n",
    "                sim = similarity.eval()\n",
    "                for i in range(valid_size):\n",
    "                    valid_word = int_to_vocab[valid_examples[i]]\n",
    "                    top_k = 8 # number of nearest neighbors\n",
    "                    nearest = (-sim[i, :]).argsort()[1:top_k+1]\n",
    "                    log = 'Nearest to %s:' % valid_word\n",
    "                    for k in range(top_k):\n",
    "                        close_word = int_to_vocab[nearest[k]]\n",
    "                        log = '%s %s,' % (log, close_word)\n",
    "                    print(log)\n",
    "            \n",
    "            iteration += 1\n",
    "    save_path = saver.save(sess, \"checkpoints/text8.ckpt\")\n",
    "    embed_mat = sess.run(normalized_embedding)"
   ]
  },
  {
   "cell_type": "markdown",
   "metadata": {},
   "source": [
    "Restore the trained network if you need to:"
   ]
  },
  {
   "cell_type": "code",
   "execution_count": 100,
   "metadata": {
    "collapsed": false
   },
   "outputs": [
    {
     "ename": "SystemError",
     "evalue": "<built-in function TF_Run> returned a result with an error set",
     "output_type": "error",
     "traceback": [
      "\u001b[0;31m---------------------------------------------------------------------------\u001b[0m",
      "\u001b[0;31mTypeError\u001b[0m                                 Traceback (most recent call last)",
      "\u001b[0;31mTypeError\u001b[0m: expected bytes, NoneType found",
      "\nThe above exception was the direct cause of the following exception:\n",
      "\u001b[0;31mSystemError\u001b[0m                               Traceback (most recent call last)",
      "\u001b[0;32m<ipython-input-100-4eeca6a379f0>\u001b[0m in \u001b[0;36m<module>\u001b[0;34m()\u001b[0m\n\u001b[1;32m      3\u001b[0m \u001b[0;34m\u001b[0m\u001b[0m\n\u001b[1;32m      4\u001b[0m \u001b[0;32mwith\u001b[0m \u001b[0mtf\u001b[0m\u001b[0;34m.\u001b[0m\u001b[0mSession\u001b[0m\u001b[0;34m(\u001b[0m\u001b[0mgraph\u001b[0m\u001b[0;34m=\u001b[0m\u001b[0mtrain_graph\u001b[0m\u001b[0;34m)\u001b[0m \u001b[0;32mas\u001b[0m \u001b[0msess\u001b[0m\u001b[0;34m:\u001b[0m\u001b[0;34m\u001b[0m\u001b[0m\n\u001b[0;32m----> 5\u001b[0;31m     \u001b[0msaver\u001b[0m\u001b[0;34m.\u001b[0m\u001b[0mrestore\u001b[0m\u001b[0;34m(\u001b[0m\u001b[0msess\u001b[0m\u001b[0;34m,\u001b[0m \u001b[0mtf\u001b[0m\u001b[0;34m.\u001b[0m\u001b[0mtrain\u001b[0m\u001b[0;34m.\u001b[0m\u001b[0mlatest_checkpoint\u001b[0m\u001b[0;34m(\u001b[0m\u001b[0;34m'checkpoints'\u001b[0m\u001b[0;34m)\u001b[0m\u001b[0;34m)\u001b[0m\u001b[0;34m\u001b[0m\u001b[0m\n\u001b[0m\u001b[1;32m      6\u001b[0m     \u001b[0membed_mat\u001b[0m \u001b[0;34m=\u001b[0m \u001b[0msess\u001b[0m\u001b[0;34m.\u001b[0m\u001b[0mrun\u001b[0m\u001b[0;34m(\u001b[0m\u001b[0membedding\u001b[0m\u001b[0;34m)\u001b[0m\u001b[0;34m\u001b[0m\u001b[0m\n",
      "\u001b[0;32m/home/luo/anaconda2/envs/dlnd/lib/python3.6/site-packages/tensorflow/python/training/saver.py\u001b[0m in \u001b[0;36mrestore\u001b[0;34m(self, sess, save_path)\u001b[0m\n\u001b[1;32m   1426\u001b[0m       \u001b[0;32mreturn\u001b[0m\u001b[0;34m\u001b[0m\u001b[0m\n\u001b[1;32m   1427\u001b[0m     sess.run(self.saver_def.restore_op_name,\n\u001b[0;32m-> 1428\u001b[0;31m              {self.saver_def.filename_tensor_name: save_path})\n\u001b[0m\u001b[1;32m   1429\u001b[0m \u001b[0;34m\u001b[0m\u001b[0m\n\u001b[1;32m   1430\u001b[0m   \u001b[0;34m@\u001b[0m\u001b[0mstaticmethod\u001b[0m\u001b[0;34m\u001b[0m\u001b[0m\n",
      "\u001b[0;32m/home/luo/anaconda2/envs/dlnd/lib/python3.6/site-packages/tensorflow/python/client/session.py\u001b[0m in \u001b[0;36mrun\u001b[0;34m(self, fetches, feed_dict, options, run_metadata)\u001b[0m\n\u001b[1;32m    765\u001b[0m     \u001b[0;32mtry\u001b[0m\u001b[0;34m:\u001b[0m\u001b[0;34m\u001b[0m\u001b[0m\n\u001b[1;32m    766\u001b[0m       result = self._run(None, fetches, feed_dict, options_ptr,\n\u001b[0;32m--> 767\u001b[0;31m                          run_metadata_ptr)\n\u001b[0m\u001b[1;32m    768\u001b[0m       \u001b[0;32mif\u001b[0m \u001b[0mrun_metadata\u001b[0m\u001b[0;34m:\u001b[0m\u001b[0;34m\u001b[0m\u001b[0m\n\u001b[1;32m    769\u001b[0m         \u001b[0mproto_data\u001b[0m \u001b[0;34m=\u001b[0m \u001b[0mtf_session\u001b[0m\u001b[0;34m.\u001b[0m\u001b[0mTF_GetBuffer\u001b[0m\u001b[0;34m(\u001b[0m\u001b[0mrun_metadata_ptr\u001b[0m\u001b[0;34m)\u001b[0m\u001b[0;34m\u001b[0m\u001b[0m\n",
      "\u001b[0;32m/home/luo/anaconda2/envs/dlnd/lib/python3.6/site-packages/tensorflow/python/client/session.py\u001b[0m in \u001b[0;36m_run\u001b[0;34m(self, handle, fetches, feed_dict, options, run_metadata)\u001b[0m\n\u001b[1;32m    963\u001b[0m     \u001b[0;32mif\u001b[0m \u001b[0mfinal_fetches\u001b[0m \u001b[0;32mor\u001b[0m \u001b[0mfinal_targets\u001b[0m\u001b[0;34m:\u001b[0m\u001b[0;34m\u001b[0m\u001b[0m\n\u001b[1;32m    964\u001b[0m       results = self._do_run(handle, final_targets, final_fetches,\n\u001b[0;32m--> 965\u001b[0;31m                              feed_dict_string, options, run_metadata)\n\u001b[0m\u001b[1;32m    966\u001b[0m     \u001b[0;32melse\u001b[0m\u001b[0;34m:\u001b[0m\u001b[0;34m\u001b[0m\u001b[0m\n\u001b[1;32m    967\u001b[0m       \u001b[0mresults\u001b[0m \u001b[0;34m=\u001b[0m \u001b[0;34m[\u001b[0m\u001b[0;34m]\u001b[0m\u001b[0;34m\u001b[0m\u001b[0m\n",
      "\u001b[0;32m/home/luo/anaconda2/envs/dlnd/lib/python3.6/site-packages/tensorflow/python/client/session.py\u001b[0m in \u001b[0;36m_do_run\u001b[0;34m(self, handle, target_list, fetch_list, feed_dict, options, run_metadata)\u001b[0m\n\u001b[1;32m   1013\u001b[0m     \u001b[0;32mif\u001b[0m \u001b[0mhandle\u001b[0m \u001b[0;32mis\u001b[0m \u001b[0;32mNone\u001b[0m\u001b[0;34m:\u001b[0m\u001b[0;34m\u001b[0m\u001b[0m\n\u001b[1;32m   1014\u001b[0m       return self._do_call(_run_fn, self._session, feed_dict, fetch_list,\n\u001b[0;32m-> 1015\u001b[0;31m                            target_list, options, run_metadata)\n\u001b[0m\u001b[1;32m   1016\u001b[0m     \u001b[0;32melse\u001b[0m\u001b[0;34m:\u001b[0m\u001b[0;34m\u001b[0m\u001b[0m\n\u001b[1;32m   1017\u001b[0m       return self._do_call(_prun_fn, self._session, handle, feed_dict,\n",
      "\u001b[0;32m/home/luo/anaconda2/envs/dlnd/lib/python3.6/site-packages/tensorflow/python/client/session.py\u001b[0m in \u001b[0;36m_do_call\u001b[0;34m(self, fn, *args)\u001b[0m\n\u001b[1;32m   1020\u001b[0m   \u001b[0;32mdef\u001b[0m \u001b[0m_do_call\u001b[0m\u001b[0;34m(\u001b[0m\u001b[0mself\u001b[0m\u001b[0;34m,\u001b[0m \u001b[0mfn\u001b[0m\u001b[0;34m,\u001b[0m \u001b[0;34m*\u001b[0m\u001b[0margs\u001b[0m\u001b[0;34m)\u001b[0m\u001b[0;34m:\u001b[0m\u001b[0;34m\u001b[0m\u001b[0m\n\u001b[1;32m   1021\u001b[0m     \u001b[0;32mtry\u001b[0m\u001b[0;34m:\u001b[0m\u001b[0;34m\u001b[0m\u001b[0m\n\u001b[0;32m-> 1022\u001b[0;31m       \u001b[0;32mreturn\u001b[0m \u001b[0mfn\u001b[0m\u001b[0;34m(\u001b[0m\u001b[0;34m*\u001b[0m\u001b[0margs\u001b[0m\u001b[0;34m)\u001b[0m\u001b[0;34m\u001b[0m\u001b[0m\n\u001b[0m\u001b[1;32m   1023\u001b[0m     \u001b[0;32mexcept\u001b[0m \u001b[0merrors\u001b[0m\u001b[0;34m.\u001b[0m\u001b[0mOpError\u001b[0m \u001b[0;32mas\u001b[0m \u001b[0me\u001b[0m\u001b[0;34m:\u001b[0m\u001b[0;34m\u001b[0m\u001b[0m\n\u001b[1;32m   1024\u001b[0m       \u001b[0mmessage\u001b[0m \u001b[0;34m=\u001b[0m \u001b[0mcompat\u001b[0m\u001b[0;34m.\u001b[0m\u001b[0mas_text\u001b[0m\u001b[0;34m(\u001b[0m\u001b[0me\u001b[0m\u001b[0;34m.\u001b[0m\u001b[0mmessage\u001b[0m\u001b[0;34m)\u001b[0m\u001b[0;34m\u001b[0m\u001b[0m\n",
      "\u001b[0;32m/home/luo/anaconda2/envs/dlnd/lib/python3.6/site-packages/tensorflow/python/client/session.py\u001b[0m in \u001b[0;36m_run_fn\u001b[0;34m(session, feed_dict, fetch_list, target_list, options, run_metadata)\u001b[0m\n\u001b[1;32m   1002\u001b[0m         return tf_session.TF_Run(session, options,\n\u001b[1;32m   1003\u001b[0m                                  \u001b[0mfeed_dict\u001b[0m\u001b[0;34m,\u001b[0m \u001b[0mfetch_list\u001b[0m\u001b[0;34m,\u001b[0m \u001b[0mtarget_list\u001b[0m\u001b[0;34m,\u001b[0m\u001b[0;34m\u001b[0m\u001b[0m\n\u001b[0;32m-> 1004\u001b[0;31m                                  status, run_metadata)\n\u001b[0m\u001b[1;32m   1005\u001b[0m \u001b[0;34m\u001b[0m\u001b[0m\n\u001b[1;32m   1006\u001b[0m     \u001b[0;32mdef\u001b[0m \u001b[0m_prun_fn\u001b[0m\u001b[0;34m(\u001b[0m\u001b[0msession\u001b[0m\u001b[0;34m,\u001b[0m \u001b[0mhandle\u001b[0m\u001b[0;34m,\u001b[0m \u001b[0mfeed_dict\u001b[0m\u001b[0;34m,\u001b[0m \u001b[0mfetch_list\u001b[0m\u001b[0;34m)\u001b[0m\u001b[0;34m:\u001b[0m\u001b[0;34m\u001b[0m\u001b[0m\n",
      "\u001b[0;31mSystemError\u001b[0m: <built-in function TF_Run> returned a result with an error set"
     ]
    }
   ],
   "source": [
    "with train_graph.as_default():\n",
    "    saver = tf.train.Saver()\n",
    "\n",
    "with tf.Session(graph=train_graph) as sess:\n",
    "    saver.restore(sess, tf.train.latest_checkpoint('checkpoints'))\n",
    "    embed_mat = sess.run(embedding)"
   ]
  },
  {
   "cell_type": "markdown",
   "metadata": {},
   "source": [
    "## Visualizing the word vectors\n",
    "\n",
    "Below we'll use T-SNE to visualize how our high-dimensional word vectors cluster together. T-SNE is used to project these vectors into two dimensions while preserving local stucture. Check out [this post from Christopher Olah](http://colah.github.io/posts/2014-10-Visualizing-MNIST/) to learn more about T-SNE and other ways to visualize high-dimensional data."
   ]
  },
  {
   "cell_type": "code",
   "execution_count": null,
   "metadata": {
    "collapsed": false,
    "deletable": true,
    "editable": true
   },
   "outputs": [],
   "source": [
    "%matplotlib inline\n",
    "%config InlineBackend.figure_format = 'retina'\n",
    "\n",
    "import matplotlib.pyplot as plt\n",
    "from sklearn.manifold import TSNE"
   ]
  },
  {
   "cell_type": "code",
   "execution_count": null,
   "metadata": {
    "collapsed": false,
    "deletable": true,
    "editable": true
   },
   "outputs": [],
   "source": [
    "viz_words = 500\n",
    "tsne = TSNE()\n",
    "embed_tsne = tsne.fit_transform(embed_mat[:viz_words, :])"
   ]
  },
  {
   "cell_type": "code",
   "execution_count": null,
   "metadata": {
    "collapsed": false,
    "deletable": true,
    "editable": true
   },
   "outputs": [],
   "source": [
    "fig, ax = plt.subplots(figsize=(14, 14))\n",
    "for idx in range(viz_words):\n",
    "    plt.scatter(*embed_tsne[idx, :], color='steelblue')\n",
    "    plt.annotate(int_to_vocab[idx], (embed_tsne[idx, 0], embed_tsne[idx, 1]), alpha=0.7)"
   ]
  }
 ],
 "metadata": {
  "kernelspec": {
   "display_name": "Python 3",
   "language": "python",
   "name": "python3"
  },
  "language_info": {
   "codemirror_mode": {
    "name": "ipython",
    "version": 3
   },
   "file_extension": ".py",
   "mimetype": "text/x-python",
   "name": "python",
   "nbconvert_exporter": "python",
   "pygments_lexer": "ipython3",
   "version": "3.6.0"
  }
 },
 "nbformat": 4,
 "nbformat_minor": 2
}
